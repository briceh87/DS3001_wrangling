{
  "cells": [
    {
      "cell_type": "markdown",
      "id": "13ad028b-72b7-43ed-aa78-96fd4e518040",
      "metadata": {
        "id": "13ad028b-72b7-43ed-aa78-96fd4e518040"
      },
      "source": [
        "# Assignment: Data Wrangling\n",
        "### `! git clone https://github.com/ds4e/wrangling`\n",
        "### Do Q1 and Q2, and either Q3 or Q4, for a total of 3 questions."
      ]
    },
    {
      "cell_type": "markdown",
      "id": "da879ea7-8aac-48a3-b6c2-daea56d2e072",
      "metadata": {
        "id": "da879ea7-8aac-48a3-b6c2-daea56d2e072"
      },
      "source": [
        "**Q1.** This question provides some practice cleaning variables which have common problems.\n",
        "1. Numeric variable: For `./data/airbnb_hw.csv`, clean the `Price` variable as well as you can, and explain the choices you make. How many missing values do you end up with? (Hint: What happens to the formatting when a price goes over 999 dollars, say from 675 to 1,112?)\n"
      ]
    },
    {
      "cell_type": "code",
      "execution_count": 69,
      "id": "07233746",
      "metadata": {},
      "outputs": [
        {
          "data": {
            "text/html": [
              "<div>\n",
              "<style scoped>\n",
              "    .dataframe tbody tr th:only-of-type {\n",
              "        vertical-align: middle;\n",
              "    }\n",
              "\n",
              "    .dataframe tbody tr th {\n",
              "        vertical-align: top;\n",
              "    }\n",
              "\n",
              "    .dataframe thead th {\n",
              "        text-align: right;\n",
              "    }\n",
              "</style>\n",
              "<table border=\"1\" class=\"dataframe\">\n",
              "  <thead>\n",
              "    <tr style=\"text-align: right;\">\n",
              "      <th></th>\n",
              "      <th>Host Id</th>\n",
              "      <th>Host Since</th>\n",
              "      <th>Name</th>\n",
              "      <th>Neighbourhood</th>\n",
              "      <th>Property Type</th>\n",
              "      <th>Review Scores Rating (bin)</th>\n",
              "      <th>Room Type</th>\n",
              "      <th>Zipcode</th>\n",
              "      <th>Beds</th>\n",
              "      <th>Number of Records</th>\n",
              "      <th>Number Of Reviews</th>\n",
              "      <th>Price</th>\n",
              "      <th>Review Scores Rating</th>\n",
              "    </tr>\n",
              "  </thead>\n",
              "  <tbody>\n",
              "    <tr>\n",
              "      <th>0</th>\n",
              "      <td>5162530</td>\n",
              "      <td>NaN</td>\n",
              "      <td>1 Bedroom in Prime Williamsburg</td>\n",
              "      <td>Brooklyn</td>\n",
              "      <td>Apartment</td>\n",
              "      <td>NaN</td>\n",
              "      <td>Entire home/apt</td>\n",
              "      <td>11249.0</td>\n",
              "      <td>1.0</td>\n",
              "      <td>1</td>\n",
              "      <td>0</td>\n",
              "      <td>145</td>\n",
              "      <td>NaN</td>\n",
              "    </tr>\n",
              "    <tr>\n",
              "      <th>1</th>\n",
              "      <td>33134899</td>\n",
              "      <td>NaN</td>\n",
              "      <td>Sunny, Private room in Bushwick</td>\n",
              "      <td>Brooklyn</td>\n",
              "      <td>Apartment</td>\n",
              "      <td>NaN</td>\n",
              "      <td>Private room</td>\n",
              "      <td>11206.0</td>\n",
              "      <td>1.0</td>\n",
              "      <td>1</td>\n",
              "      <td>1</td>\n",
              "      <td>37</td>\n",
              "      <td>NaN</td>\n",
              "    </tr>\n",
              "    <tr>\n",
              "      <th>2</th>\n",
              "      <td>39608626</td>\n",
              "      <td>NaN</td>\n",
              "      <td>Sunny Room in Harlem</td>\n",
              "      <td>Manhattan</td>\n",
              "      <td>Apartment</td>\n",
              "      <td>NaN</td>\n",
              "      <td>Private room</td>\n",
              "      <td>10032.0</td>\n",
              "      <td>1.0</td>\n",
              "      <td>1</td>\n",
              "      <td>1</td>\n",
              "      <td>28</td>\n",
              "      <td>NaN</td>\n",
              "    </tr>\n",
              "    <tr>\n",
              "      <th>3</th>\n",
              "      <td>500</td>\n",
              "      <td>6/26/2008</td>\n",
              "      <td>Gorgeous 1 BR with Private Balcony</td>\n",
              "      <td>Manhattan</td>\n",
              "      <td>Apartment</td>\n",
              "      <td>NaN</td>\n",
              "      <td>Entire home/apt</td>\n",
              "      <td>10024.0</td>\n",
              "      <td>3.0</td>\n",
              "      <td>1</td>\n",
              "      <td>0</td>\n",
              "      <td>199</td>\n",
              "      <td>NaN</td>\n",
              "    </tr>\n",
              "    <tr>\n",
              "      <th>4</th>\n",
              "      <td>500</td>\n",
              "      <td>6/26/2008</td>\n",
              "      <td>Trendy Times Square Loft</td>\n",
              "      <td>Manhattan</td>\n",
              "      <td>Apartment</td>\n",
              "      <td>95.0</td>\n",
              "      <td>Private room</td>\n",
              "      <td>10036.0</td>\n",
              "      <td>3.0</td>\n",
              "      <td>1</td>\n",
              "      <td>39</td>\n",
              "      <td>549</td>\n",
              "      <td>96.0</td>\n",
              "    </tr>\n",
              "  </tbody>\n",
              "</table>\n",
              "</div>"
            ],
            "text/plain": [
              "    Host Id Host Since                                Name Neighbourhood   \\\n",
              "0   5162530        NaN     1 Bedroom in Prime Williamsburg       Brooklyn   \n",
              "1  33134899        NaN     Sunny, Private room in Bushwick       Brooklyn   \n",
              "2  39608626        NaN                Sunny Room in Harlem      Manhattan   \n",
              "3       500  6/26/2008  Gorgeous 1 BR with Private Balcony      Manhattan   \n",
              "4       500  6/26/2008            Trendy Times Square Loft      Manhattan   \n",
              "\n",
              "  Property Type  Review Scores Rating (bin)        Room Type  Zipcode  Beds  \\\n",
              "0     Apartment                         NaN  Entire home/apt  11249.0   1.0   \n",
              "1     Apartment                         NaN     Private room  11206.0   1.0   \n",
              "2     Apartment                         NaN     Private room  10032.0   1.0   \n",
              "3     Apartment                         NaN  Entire home/apt  10024.0   3.0   \n",
              "4     Apartment                        95.0     Private room  10036.0   3.0   \n",
              "\n",
              "   Number of Records  Number Of Reviews Price  Review Scores Rating  \n",
              "0                  1                  0   145                   NaN  \n",
              "1                  1                  1    37                   NaN  \n",
              "2                  1                  1    28                   NaN  \n",
              "3                  1                  0   199                   NaN  \n",
              "4                  1                 39   549                  96.0  "
            ]
          },
          "execution_count": 69,
          "metadata": {},
          "output_type": "execute_result"
        }
      ],
      "source": [
        "import pandas as pd\n",
        "\n",
        "file_path = \"./data/airbnb_hw.csv\"\n",
        "df = pd.read_csv(file_path)\n",
        "df.head()"
      ]
    },
    {
      "cell_type": "code",
      "execution_count": 70,
      "id": "e6f0f2c0",
      "metadata": {},
      "outputs": [
        {
          "name": "stdout",
          "output_type": "stream",
          "text": [
            "[  145    37    28   199   549   149   250    90   270   290   170    59\n",
            "    49    68   285    75   100   150   700   125   175    40    89    95\n",
            "    99   499   120    79   110   180   143   230   350   135    85    60\n",
            "    70    55    44   200   165   115    74    84   129    50   185    80\n",
            "   190   140    45    65   225   600   109  1990    73   240    72   105\n",
            "   155   160    42   132   117   295   280   159   107    69   239   220\n",
            "   399   130   375   585   275   139   260    35   133   300   289   179\n",
            "    98   195    29    27    39   249   192   142   169  1000   131   138\n",
            "   113   122   329   101   475   238   272   308   126   235   315   248\n",
            "   128    56   207   450   215   210   385   445   136   247   118    77\n",
            "    76    92   198   205   299   222   245   104   153   349   114   320\n",
            "   292   226   420   500   325   307    78   265   108   123   189    32\n",
            "    58    86   219   800   335    63   229   425    67    87  1200   158\n",
            "   650   234   310   695   400   166   119    62   168   340   479    43\n",
            "   395   144    52    47   529   187   209   233    82   269   163   172\n",
            "   305   156   550   435   137   124    48   279   330  5000   134   378\n",
            "    97   277    64   193   147   186   264    30  3000   112    94   379\n",
            "    57   415   236   410   214    88    66    71   171   157   545  1500\n",
            "    83    96  1800    81   188   380   255   505    54    33   174    93\n",
            "   740   640  1300   440   599   357  1239   495   127  5999   178   348\n",
            "   152   242   183   253   750   259   365   273   197   397   103   389\n",
            "   355   559    38   203   999   141   162   333   698    46   360   895\n",
            "    10    41   206   281   449   388   212   102   201  2750  4750   432\n",
            "   675   167   390   298   339   194   302   211   595   191    53   361\n",
            "   480  8000  4500   459   997   345   216   218   111   735   276    91\n",
            "   490   850   398    36   775   267   625   336  2500   176   725  3750\n",
            "   469   106   460   287   575   227   263    25   228   208   177   880\n",
            "   148   116   685   470   217   164    61   645   699   405   252   319\n",
            "   268   419   343   525   311   840   154   294   950   409   184   257\n",
            "   204   241  2000   412   121   288   196   900   647   524  1750   309\n",
            "   510  1495  1700   799   383   372   492   327  1999   656   224   173\n",
            "   875  1170   795   690   146   465  1100   151   274   429   825   282\n",
            "   256  1111   620   271   161    51   855   579  1174   430    20   899\n",
            "   649   485   181   455  4000   243   342   590   560   374   437   232\n",
            "   359   985    31   244   254   723   237   428   370    34  1400   580\n",
            "  2520   221   749  1600  2695   306   202   680   570   520   223  2295\n",
            "   213  1065   346    24   286   296   266    26   995  1368   393   182\n",
            "   635   258   780   589   347  1250  1350   446  3200  1050  1650  1550\n",
            "   975   323  6500  2499  1850  2250   715   461   540   356   439   384\n",
            "   569  1900    22   785   626   830   318   444   321   401  1499   888\n",
            "   369   770   386   366   344   630   313   597   262   509 10000   278\n",
            "   312   789  1195   422    21   765  3500   945   326  3100  2486  3390\n",
            "  1356  2599   472   454   328   396   291] \n",
            "\n",
            "Total missing values :  0\n"
          ]
        }
      ],
      "source": [
        "df[\"Price\"].unique()\n",
        "price = df['Price']\n",
        "price = price.str.replace(',','')\n",
        "price = pd.to_numeric(price,errors='coerce') \n",
        "print( price.unique() , '\\n')\n",
        "print( 'Total missing values : ', sum( price.isnull() ) )"
      ]
    },
    {
      "cell_type": "markdown",
      "id": "44492f63",
      "metadata": {},
      "source": [
        "The prices above 999 contain commas, making the values in the 'Price' column to be strings. I first replaced all commas with nothing and then converted all of the values to numeric values. All missing values would have been coerced to NaN so they could be easily summed with \".isnull().sum()\". There were no missing values reported. "
      ]
    },
    {
      "cell_type": "markdown",
      "id": "8363a8b2",
      "metadata": {},
      "source": [
        "2. Categorical variable: For the Minnesota police use of for data, `./data/mn_police_use_of_force.csv`, clean the `subject_injury` variable, handling the NA's; this gives a value `Yes` when a person was injured by police, and `No` when no injury occurred. What proportion of the values are missing? Is this a concern? Cross-tabulate your cleaned `subject_injury` variable with the `force_type` variable. Are there any patterns regarding when the data are missing? \n"
      ]
    },
    {
      "cell_type": "code",
      "execution_count": 71,
      "id": "ddbdbef6",
      "metadata": {},
      "outputs": [
        {
          "name": "stdout",
          "output_type": "stream",
          "text": [
            "[nan 'No' 'Yes']\n",
            "\n",
            "Total missing values: 9848\n",
            "Proportion of missing values: 76.19%\n"
          ]
        }
      ],
      "source": [
        "df = pd.read_csv(\"./data/mn_police_use_of_force.csv\")\n",
        "print(df[\"subject_injury\"].unique())\n",
        "\n",
        "missing_count = df[\"subject_injury\"].isna().sum()\n",
        "total_count = len(df)\n",
        "missing_proportion = missing_count / total_count\n",
        "print(f\"\\nTotal missing values: {missing_count}\")\n",
        "print(f\"Proportion of missing values: {missing_proportion:.2%}\")\n"
      ]
    },
    {
      "cell_type": "code",
      "execution_count": 72,
      "id": "4f3e0b19",
      "metadata": {},
      "outputs": [
        {
          "name": "stdout",
          "output_type": "stream",
          "text": [
            "force_type      Baton  Bodily Force  Chemical Irritant  Firearm  \\\n",
            "subject_injury                                                    \n",
            "No                0.0        1093.0              131.0      2.0   \n",
            "Yes               2.0        1286.0               41.0      0.0   \n",
            "NaN               2.0        7051.0             1421.0      NaN   \n",
            "\n",
            "force_type      Gun Point Display  Improvised Weapon  Less Lethal  \\\n",
            "subject_injury                                                      \n",
            "No                           33.0               34.0          0.0   \n",
            "Yes                          44.0               40.0          0.0   \n",
            "NaN                          27.0               74.0         87.0   \n",
            "\n",
            "force_type      Less Lethal Projectile  Maximal Restraint Technique  \\\n",
            "subject_injury                                                        \n",
            "No                                 1.0                          0.0   \n",
            "Yes                                2.0                          0.0   \n",
            "NaN                                NaN                        170.0   \n",
            "\n",
            "force_type      Police K9 Bite  Taser  NaN  \n",
            "subject_injury                              \n",
            "No                         2.0  150.0  NaN  \n",
            "Yes                       44.0  172.0  NaN  \n",
            "NaN                       31.0  985.0  NaN  \n"
          ]
        }
      ],
      "source": [
        "crosstab = pd.crosstab(df[\"subject_injury\"], df[\"force_type\"], dropna=False)\n",
        "crosstab.loc[\"NaN\"] = df[df[\"subject_injury\"].isna()][\"force_type\"].value_counts(dropna=False)\n",
        "crosstab[\"NaN\"] = df[df[\"force_type\"].isna()][\"subject_injury\"].value_counts(dropna=False)\n",
        "print(crosstab)"
      ]
    },
    {
      "cell_type": "markdown",
      "id": "1ec344e6",
      "metadata": {},
      "source": [
        "A significant number of cases involving Bodily Force (7,051) and Chemical Irritants (1,421) lack recorded injury data, suggesting possible inconsistencies in injury reporting for these force types. Similarly, Taser use (985) and Police K9 Bites (31) also show missing injury records, which may indicate incomplete documentation or delays in injury recognition. Additionally, Maximal Restraint Technique (170 cases) also exhibits missing injury data, potentially due to delayed onset of injuries that were not immediately recorded. In contrast, firearm-related incidents have no missing injury records, suggesting more stringent documentation requirements for such cases. These patterns could stem from data entry issues, policy variations across jurisdictions, or classification ambiguities where officers were uncertain whether an injury should be recorded."
      ]
    },
    {
      "cell_type": "markdown",
      "id": "7b115423",
      "metadata": {},
      "source": [
        "3. Dummy variable: For the pretrial data covered in the lecture, clean the `WhetherDefendantWasReleasedPretrial` variable as well as you can, and, in particular, replace missing values with `np.nan`.\n"
      ]
    },
    {
      "cell_type": "code",
      "execution_count": 73,
      "id": "ee95e8be",
      "metadata": {},
      "outputs": [],
      "source": [
        "url = 'http://www.vcsc.virginia.gov/pretrialdataproject/October%202017%20Cohort_Virginia%20Pretrial%20Data%20Project_Deidentified%20FINAL%20Update_10272021.csv'\n",
        "df = pd.read_csv(url,low_memory=False)"
      ]
    },
    {
      "cell_type": "code",
      "execution_count": 74,
      "id": "7f2450d5",
      "metadata": {},
      "outputs": [
        {
          "name": "stdout",
          "output_type": "stream",
          "text": [
            "[9 0 1]\n",
            "PretrialRelease\n",
            "1.0    19154\n",
            "0.0     3801\n",
            "NaN       31\n",
            "Name: count, dtype: int64\n"
          ]
        }
      ],
      "source": [
        "import numpy as np\n",
        "df.rename(columns={\"WhetherDefendantWasReleasedPretrial\": \"PretrialRelease\"}, inplace=True)\n",
        "print(df[\"PretrialRelease\"].unique())\n",
        "df[\"PretrialRelease\"] = df[\"PretrialRelease\"].replace(9, np.nan)\n",
        "df[\"PretrialRelease\"] = pd.to_numeric(df[\"PretrialRelease\"], errors=\"coerce\")\n",
        "print(df[\"PretrialRelease\"].value_counts(dropna=False))"
      ]
    },
    {
      "cell_type": "markdown",
      "id": "9cb8dc01",
      "metadata": {},
      "source": [
        "4. Missing values, not at random: For the pretrial data covered in the lecture, clean the `ImposedSentenceAllChargeInContactEvent` variable as well as you can, and explain the choices you make. (Hint: Look at the `SentenceTypeAllChargesAtConvictionInContactEvent` variable.)"
      ]
    },
    {
      "cell_type": "code",
      "execution_count": 75,
      "id": "df9f9688",
      "metadata": {},
      "outputs": [
        {
          "name": "stdout",
          "output_type": "stream",
          "text": [
            "9053 \n",
            "\n",
            "SentenceTypeAllChargesAtConvictionInContactEvent     0     1    2     4    9\n",
            "ImposedSentenceAllChargeInContactEvent                                      \n",
            "False                                             8720  4299  914     0    0\n",
            "True                                                 0     0    0  8779  274 \n",
            "\n",
            "SentenceTypeAllChargesAtConvictionInContactEvent     0     1    2     4    9\n",
            "ImposedSentenceAllChargeInContactEvent                                      \n",
            "False                                             8720  4299  914  8779    0\n",
            "True                                                 0     0    0     0  274 \n",
            "\n",
            "274 \n",
            "\n"
          ]
        }
      ],
      "source": [
        "length = df['ImposedSentenceAllChargeInContactEvent']\n",
        "type = df['SentenceTypeAllChargesAtConvictionInContactEvent']\n",
        "\n",
        "length = pd.to_numeric(length,errors='coerce') \n",
        "length_NA = length.isnull() \n",
        "print( np.sum(length_NA),'\\n') \n",
        "print( pd.crosstab(length_NA, type), '\\n') \n",
        "\n",
        "length = length.mask( type == 4, 0) \n",
        "length = length.mask( type == 9, np.nan) \n",
        "length_NA = length.isnull() \n",
        "\n",
        "print( pd.crosstab(length_NA, type), '\\n')\n",
        "print( np.sum(length_NA),'\\n') \n",
        "\n",
        "df['ImposedSentenceAllChargeInContactEvent'] = length \n",
        "del length, type"
      ]
    },
    {
      "cell_type": "markdown",
      "id": "61bf480a",
      "metadata": {},
      "source": [
        "The cleaning process for ImposedSentenceAllChargeInContactEvent involved converting non-numeric values to NaN to standardize the dataset and analyzing missing data patterns using SentenceTypeAllChargesAtConvictionInContactEvent. Initially, 9,000 out of 23,000 values were missing. Cross-tabulation revealed that a large portion of missing values occurred in cases where charges were dismissed (type == 4). Since dismissed cases do not result in an imposed sentence, these missing values were logically replaced with 0 to indicate no sentence was given. Conversely, cases categorized under type == 9 (unknown or pending sentences) retained their NaN values, as their missingness likely reflected genuine uncertainty rather than data entry omissions. This approach reduced the number of missing values from 9,000 to just 274, significantly improving data completeness while preserving the integrity of the dataset."
      ]
    },
    {
      "cell_type": "markdown",
      "id": "5a60a44e",
      "metadata": {},
      "source": [
        "**Q2.** Go to https://sharkattackfile.net/ and download their dataset on shark attacks.\n",
        "\n",
        "1. Open the shark attack file using Pandas. It is probably not a csv file, so `read_csv` won't work.\n"
      ]
    },
    {
      "cell_type": "code",
      "execution_count": 76,
      "id": "3a0b4db5",
      "metadata": {},
      "outputs": [
        {
          "name": "stdout",
          "output_type": "stream",
          "text": [
            "                  Date    Year        Type        Country              State  \\\n",
            "0  2025-01-23 00:00:00  2025.0  Unprovoked      Australia  Western Australia   \n",
            "1  2025-01-22 00:00:00  2025.0  Unprovoked      Australia  Western Australia   \n",
            "2  2025-01-11 00:00:00  2025.0    Provoked            USA             Hawaii   \n",
            "3  2025-01-02 00:00:00  2025.0  Unprovoked  New Caledonia       Grande Terre   \n",
            "4  2025-01-02 00:00:00  2025.0  Unprovoked      Australia    South Australia   \n",
            "\n",
            "                                  Location      Activity  \\\n",
            "0                           Shipwreck Cove       Bathing   \n",
            "1                           Cheynes beach        Surfing   \n",
            "2            Off Haleiwa Boat Harbour Oahu        Diving   \n",
            "3              Islet of Kendek near Koumac  Spearfishing   \n",
            "4  Granites Beach near Westall Streaky Bay       Surfing   \n",
            "\n",
            "                                     Name Sex Age  ...  \\\n",
            "0                                    Boy    M  12  ...   \n",
            "1                             Dale Kittow   M  37  ...   \n",
            "2  Male not stated was a dive tour worker   M  23  ...   \n",
            "3                        Robert Cuewapuru   M  40  ...   \n",
            "4                           Lance Appleby   M  28  ...   \n",
            "\n",
            "                                 Species   \\\n",
            "0                              Not stated   \n",
            "1                           Bronze whaler   \n",
            "2                              Not stated   \n",
            "3          Reportedly Tiger or Bull shark   \n",
            "4  Great White Shart estimated 4.8m 16 ft   \n",
            "\n",
            "                                              Source  pdf href formula href  \\\n",
            "0                                     Bob Myatt GSAF  NaN          NaN  NaN   \n",
            "1                                     Bob Myatt GSAF  NaN          NaN  NaN   \n",
            "2                  Kevin McMurray Trackingsharks.com  NaN          NaN  NaN   \n",
            "3                      Johannes Marchand Todd Smith   NaN          NaN  NaN   \n",
            "4  Glen Folkard: Simon De Marchi News.com.au: The...  NaN          NaN  NaN   \n",
            "\n",
            "  Case Number Case Number.1 original order Unnamed: 21 Unnamed: 22  \n",
            "0         NaN           NaN            NaN         NaN         NaN  \n",
            "1         NaN           NaN            NaN         NaN         NaN  \n",
            "2         NaN           NaN            NaN         NaN         NaN  \n",
            "3         NaN           NaN            NaN         NaN         NaN  \n",
            "4         NaN           NaN            NaN         NaN         NaN  \n",
            "\n",
            "[5 rows x 23 columns]\n"
          ]
        }
      ],
      "source": [
        "df = pd.read_excel(\"./data/GSAF5.xls\")\n",
        "print(df.head())"
      ]
    },
    {
      "cell_type": "markdown",
      "id": "48671725",
      "metadata": {},
      "source": [
        "2. Drop any columns that do not contain data.\n"
      ]
    },
    {
      "cell_type": "code",
      "execution_count": 77,
      "id": "4b3eb5b6",
      "metadata": {},
      "outputs": [
        {
          "name": "stdout",
          "output_type": "stream",
          "text": [
            "Index(['Date', 'Year', 'Type', 'Country', 'State', 'Location', 'Activity',\n",
            "       'Name', 'Sex', 'Age', 'Injury', 'Fatal Y/N', 'Time', 'Species ',\n",
            "       'Source'],\n",
            "      dtype='object')\n"
          ]
        }
      ],
      "source": [
        "columns_to_keep = list(df.columns[:df.columns.get_loc(\"Source\") + 1])\n",
        "df = df[columns_to_keep]\n",
        "print(df.columns)"
      ]
    },
    {
      "cell_type": "markdown",
      "id": "a168525a",
      "metadata": {},
      "source": [
        "3. Clean the year variable. Describe the range of values you see. Filter the rows to focus on attacks since 1940. Are attacks increasing, decreasing, or remaining constant over time?\n"
      ]
    },
    {
      "cell_type": "code",
      "execution_count": 78,
      "id": "17297dea",
      "metadata": {},
      "outputs": [
        {
          "name": "stdout",
          "output_type": "stream",
          "text": [
            "Year\n",
            "1940     24\n",
            "1941     27\n",
            "1942     41\n",
            "1943     28\n",
            "1944     31\n",
            "       ... \n",
            "2022     98\n",
            "2023    109\n",
            "2024     49\n",
            "2025      6\n",
            "2026      1\n",
            "Name: count, Length: 87, dtype: int64\n"
          ]
        }
      ],
      "source": [
        "df[\"Year\"] = pd.to_numeric(df[\"Year\"], errors=\"coerce\")\n",
        "df = df.dropna(subset=[\"Year\"])\n",
        "df[\"Year\"] = df[\"Year\"].astype(int)\n",
        "\n",
        "df = df[df[\"Year\"] >= 1940]\n",
        "print(df[\"Year\"].value_counts().sort_index())"
      ]
    },
    {
      "cell_type": "code",
      "execution_count": 79,
      "id": "8fd30349",
      "metadata": {},
      "outputs": [
        {
          "data": {
            "image/png": "[encoded data removed]",
            "text/plain": [
              "<Figure size 1000x500 with 1 Axes>"
            ]
          },
          "metadata": {},
          "output_type": "display_data"
        }
      ],
      "source": [
        "import matplotlib.pyplot as plt\n",
        "\n",
        "yearly_attacks = df.groupby(\"Year\").size()\n",
        "\n",
        "plt.figure(figsize=(10,5))\n",
        "plt.plot(yearly_attacks, marker=\"o\", linestyle=\"-\", color=\"b\", alpha=0.7)\n",
        "plt.xlabel(\"Year\")\n",
        "plt.ylabel(\"Number of Attacks\")\n",
        "plt.title(\"Shark Attacks Over Time (1940-Present)\")\n",
        "plt.grid(True)\n",
        "plt.show()\n"
      ]
    },
    {
      "cell_type": "markdown",
      "id": "6705774d",
      "metadata": {},
      "source": [
        "It seems the number of shark attacks has been increasing over the years but has experienced a decline in the past 3 years. "
      ]
    },
    {
      "cell_type": "markdown",
      "id": "5077cfb5",
      "metadata": {},
      "source": [
        "4. Clean the Age variable and make a histogram of the ages of the victims.\n"
      ]
    },
    {
      "cell_type": "code",
      "execution_count": 80,
      "id": "8b587ba6",
      "metadata": {},
      "outputs": [
        {
          "data": {
            "image/png": "[encoded data removed]",
            "text/plain": [
              "<Figure size 1000x500 with 1 Axes>"
            ]
          },
          "metadata": {},
          "output_type": "display_data"
        }
      ],
      "source": [
        "df[\"Age\"] = pd.to_numeric(df[\"Age\"], errors=\"coerce\")\n",
        "# Drop missing age values\n",
        "df = df.dropna(subset=[\"Age\"])\n",
        "df[\"Age\"] = df[\"Age\"].astype(int)\n",
        "\n",
        "plt.figure(figsize=(10,5))\n",
        "plt.hist(df[\"Age\"], bins=20, color=\"skyblue\", edgecolor=\"black\", alpha=0.7)\n",
        "plt.xlabel(\"Age of Victims\")\n",
        "plt.ylabel(\"Number of Attacks\")\n",
        "plt.title(\"Distribution of Shark Attack Victim Ages\")\n",
        "plt.grid(axis=\"y\", linestyle=\"--\", alpha=0.7)\n",
        "plt.show()\n",
        "\n",
        "\n"
      ]
    },
    {
      "cell_type": "markdown",
      "id": "39d441b7",
      "metadata": {},
      "source": [
        "5. What proportion of victims are male?\n"
      ]
    },
    {
      "cell_type": "code",
      "execution_count": 81,
      "id": "c034fa5e",
      "metadata": {},
      "outputs": [
        {
          "name": "stdout",
          "output_type": "stream",
          "text": [
            "Sex\n",
            "male      2981\n",
            "female     545\n",
            "nan         32\n",
            "Name: count, dtype: int64\n",
            "Proportion of male victims: 84.54%\n"
          ]
        }
      ],
      "source": [
        "df[\"Sex\"] = df[\"Sex\"].astype(str).str.strip().str.lower()\n",
        "df[\"Sex\"] = df[\"Sex\"].replace({\n",
        "    \"m\": \"male\", \"male \": \"male\", \"f\": \"female\", \"female \": \"female\", \"lli\": np.nan\n",
        "})\n",
        "\n",
        "print(df[\"Sex\"].value_counts())\n",
        "\n",
        "male_count = (df[\"Sex\"] == \"male\").sum()\n",
        "\n",
        "known_sex_count = df[\"Sex\"].isin([\"male\", \"female\"]).sum()\n",
        "\n",
        "male_proportion = male_count / known_sex_count\n",
        "\n",
        "print(f\"Proportion of male victims: {male_proportion:.2%}\")"
      ]
    },
    {
      "cell_type": "markdown",
      "id": "d27db18d",
      "metadata": {},
      "source": [
        "6. Clean the `Type` variable so it only takes three values: Provoked and Unprovoked and Unknown. What proportion of attacks are unprovoked?\n"
      ]
    },
    {
      "cell_type": "code",
      "execution_count": 82,
      "id": "dd9b4869",
      "metadata": {},
      "outputs": [
        {
          "name": "stdout",
          "output_type": "stream",
          "text": [
            "Proportion of unprovoked attacks: 88.88%\n"
          ]
        }
      ],
      "source": [
        "df['Type'].value_counts()\n",
        "type = df['Type'] \n",
        "\n",
        "type = type.replace(['Sea Disaster', 'Boat','Boating','Boatomg'],'Watercraft') \n",
        "type.value_counts()\n",
        "type = type.replace(['Invalid', 'Questionable','Unconfirmed','Unverified','Under investigation', '?'],np.nan)\n",
        "type.value_counts()\n",
        "df['Type'] = type \n",
        "del type \n",
        "\n",
        "df['Type'].value_counts()\n",
        "\n",
        "total_attacks = df[\"Type\"].notna().sum()\n",
        "unprovoked_attacks = (df[\"Type\"] == \"Unprovoked\").sum()\n",
        "unprovoked_proportion = unprovoked_attacks / total_attacks\n",
        "print(f\"Proportion of unprovoked attacks: {unprovoked_proportion:.2%}\")"
      ]
    },
    {
      "cell_type": "markdown",
      "id": "b5081d61",
      "metadata": {},
      "source": [
        "7. Clean the `Fatal Y/N` variable so it only takes three values: Y, N, and Unknown.\n"
      ]
    },
    {
      "cell_type": "code",
      "execution_count": 83,
      "id": "33c3a1d9",
      "metadata": {},
      "outputs": [
        {
          "name": "stdout",
          "output_type": "stream",
          "text": [
            "Fatal Y/N\n",
            "N          2825\n",
            "Y           518\n",
            "Unknown     216\n",
            "Name: count, dtype: int64\n"
          ]
        }
      ],
      "source": [
        "df[\"Fatal Y/N\"] = df[\"Fatal Y/N\"].astype(str).str.strip().str.upper()\n",
        "\n",
        "df[\"Fatal Y/N\"] = df[\"Fatal Y/N\"].replace({\n",
        "    \"Y\": \"Y\",  # Keep uppercase \"Y\"\n",
        "    \"N\": \"N\",  # Keep uppercase \"N\"\n",
        "    \"UNKNOWN\": \"Unknown\", \n",
        "    \"F\": \"Unknown\",  # Possibly misclassified or missing data\n",
        "    \"M\": \"Unknown\",  # Potentially a data entry issue\n",
        "    \"?\": \"Unknown\",  # Questionable data\n",
        "    \"2017\": \"Unknown\"  # Possible data corruption\n",
        "})\n",
        "\n",
        "df[\"Fatal Y/N\"] = df[\"Fatal Y/N\"].where(df[\"Fatal Y/N\"].isin([\"Y\", \"N\"]), \"Unknown\")\n",
        "\n",
        "print(df[\"Fatal Y/N\"].value_counts())"
      ]
    },
    {
      "cell_type": "markdown",
      "id": "9f395b38",
      "metadata": {},
      "source": [
        "8. Are sharks more likely to launch unprovoked attacks on men or women? Is the attack more or less likely to be fatal when the attack is provoked or unprovoked? Is it more or less likely to be fatal when the victim is male or female? How do you feel about sharks?\n"
      ]
    },
    {
      "cell_type": "code",
      "execution_count": 84,
      "metadata": {},
      "outputs": [
        {
          "name": "stdout",
          "output_type": "stream",
          "text": [
            "Proportion of unprovoked attacks by gender:\n",
            "Sex\n",
            "male      0.831586\n",
            "female    0.160974\n",
            "nan       0.007440\n",
            "Name: proportion, dtype: float64\n",
            "Fatality rates for provoked vs. unprovoked attacks:\n",
            "Fatal Y/N          N   Unknown         Y\n",
            "Type                                    \n",
            "Provoked    0.962199  0.010309  0.027491\n",
            "Unprovoked  0.830967  0.006085  0.162948\n",
            "Watercraft  0.759494  0.000000  0.240506\n",
            "Fatality rates for male vs. female victims:\n",
            "Fatal Y/N         N   Unknown         Y\n",
            "Sex                                    \n",
            "female     0.801835  0.064220  0.133945\n",
            "male       0.793693  0.059376  0.146931\n",
            "nan        0.656250  0.125000  0.218750\n"
          ]
        }
      ],
      "source": [
        "unprovoked_attacks = df[df[\"Type\"] == \"Unprovoked\"]\n",
        "unprovoked_by_gender = unprovoked_attacks[\"Sex\"].value_counts(normalize=True)\n",
        "\n",
        "print(\"Proportion of unprovoked attacks by gender:\")\n",
        "print(unprovoked_by_gender)\n",
        "\n",
        "fatality_by_type = pd.crosstab(df[\"Type\"], df[\"Fatal Y/N\"], normalize=\"index\")\n",
        "\n",
        "print(\"Fatality rates for provoked vs. unprovoked attacks:\")\n",
        "print(fatality_by_type)\n",
        "\n",
        "\n",
        "fatality_by_gender = pd.crosstab(df[\"Sex\"], df[\"Fatal Y/N\"], normalize=\"index\")\n",
        "\n",
        "\n",
        "print(\"Fatality rates for male vs. female victims:\")\n",
        "print(fatality_by_gender)\n"
      ]
    },
    {
      "cell_type": "markdown",
      "id": "004a74a5",
      "metadata": {},
      "source": [
        "9. What proportion of attacks appear to be by white sharks? (Hint: `str.split()` makes a vector of text values into a list of lists, split by spaces.)"
      ]
    },
    {
      "cell_type": "code",
      "execution_count": 85,
      "id": "d9de8e10",
      "metadata": {},
      "outputs": [
        {
          "name": "stdout",
          "output_type": "stream",
          "text": [
            "Proportion of attacks by white sharks: 13.21%\n"
          ]
        }
      ],
      "source": [
        "df[\"Species \"] = df[\"Species \"].astype(str).str.lower()\n",
        "\n",
        "white_shark_attacks = df[df[\"Species \"].str.contains(\"white\", na=False)]\n",
        "\n",
        "proportion_white_shark = len(white_shark_attacks) / len(df)\n",
        "\n",
        "print(f\"Proportion of attacks by white sharks: {proportion_white_shark:.2%}\")\n"
      ]
    },
    {
      "cell_type": "markdown",
      "id": "5735a4d4-8be8-433a-a351-70eb8002e632",
      "metadata": {
        "id": "5735a4d4-8be8-433a-a351-70eb8002e632"
      },
      "source": [
        "**Q3.** Open the \"tidy_data.pdf\" document in the repo, which is a paper called Tidy Data by Hadley Wickham.\n",
        "\n",
        "  1. Read the abstract. What is this paper about?\n",
        "  2. Read the introduction. What is the \"tidy data standard\" intended to accomplish?\n",
        "  3. Read the intro to section 2. What does this sentence mean: \"Like families, tidy datasets are all alike but every messy dataset is messy in its own way.\" What does this sentence mean: \"For a given dataset, it’s usually easy to figure out what are observations and what are variables, but it is surprisingly difficult to precisely define variables and observations in general.\"\n",
        "  4. Read Section 2.2. How does Wickham define values, variables, and observations?\n",
        "  5. How is \"Tidy Data\" defined in section 2.3?\n",
        "  6. Read the intro to Section 3 and Section 3.1. What are the 5 most common problems with messy datasets? Why are the data in Table 4 messy? What is \"melting\" a dataset?\n",
        "  7. Why, specifically, is table 11 messy but table 12 tidy and \"molten\"?\n",
        "  8. Read Section 6. What is the \"chicken-and-egg\" problem with focusing on tidy data? What does Wickham hope happens in the future with further work on the subject of data wrangling?"
      ]
    },
    {
      "cell_type": "markdown",
      "id": "faed38aa",
      "metadata": {},
      "source": [
        "1.) Hadley Wickham explores data cleaning at a deeper level, recognizing that it is often overlooked despite being a crucial part of data analysis. Beyond simply removing missing values (NA), he proposes a structured approach to determine when data can be considered \"clean.\" He introduces the concept of tidy data, where each row represents an observation, each column corresponds to a variable, and each type of observational unit is in its own table. The paper then examines the benefits of this framework.\n",
        "\n",
        "2.) Data cleaning is an essential yet underappreciated step in data analysis, requiring significant time and effort. The tidy data standard is designed to streamline and standardize the data cleaning process. By establishing a clear goal for what clean data should look like, it makes data preparation more efficient and less ambiguous. This standardization allows analysts to work more effectively, knowing exactly what structure they should be aiming for.\n",
        "\n",
        "3.) The first phrase suggests that all tidy datasets share the same structure and are easy to work with, while messy datasets vary widely in their inconsistencies and require unique cleaning solutions. Data is often structured in ways that were convenient for its original creators, making it difficult for others to analyze without significant modifications. The quote is a reference to a famous line from Russian literature, implying that messiness has infinite variations. For the second phrase: At first glance, data organization seems straightforward—rows represent observations, and columns represent variables. However, defining these concepts universally is tricky. Misidentifying this structure can lead to poor data cleaning and misinterpretation.\n",
        "\n",
        "4.) A dataset consists of values, which can be numerical or categorical. Each value belongs to both a variable and an observation. A variable is a collection of values that measure the same characteristic (e.g., height orcolor). An observation is a collection of values that describe a single entity at a specific point (e.g., a person’s age, weight, and blood pressure recorded together).\n",
        "\n",
        "5.) Tidy data follows three rules:\n",
        "Each variable has its own column.\n",
        "Each observation has its own row.\n",
        "Each type of observational unit has its own table.\n",
        "If data does not follow this structure, it is considered messy.\n",
        "\n",
        "6.) \n",
        "1. Column headers contain values instead of variable names.\n",
        "Example: A dataset where years (e.g., 2012, 2013, 2014) are column names instead of being in a single \"Year\" column.\n",
        "2. Multiple variables are combined into a single column.\n",
        "Example: A column labeled date that contains \"2023-06-05\", which actually represents three variables: year, month, and day.\n",
        "3. Variables are spread across both rows and columns.\n",
        "Example: Weather data where tmax (maximum temperature) and tmin (minimum temperature) are stored as separate columns instead of being values in a \"Temperature Type\" column.\n",
        "4. Multiple types of observational units are mixed in the same table.\n",
        "Example: A dataset containing both employees and companies, rather than storing them in separate tables.\n",
        "5. A single observational unit is spread across multiple tables.\n",
        "Example: Patient data where lab results and medical history are stored in separate tables, making analysis harder.\n",
        "\n",
        "Why is Table 4 messy? --> In Table 4, the column names are actually values (income levels) rather than variable names. The table needs to be reorganized so that \"Income\" is a separate column rather than being embedded in the column headers.\n",
        "\n",
        "What is \"melting\" a dataset?--> Melting is the process of restructuring a dataset by converting column headers that contain values into rows. This process makes the dataset longer but tidier, ensuring all variables are represented correctly.\n",
        "\n",
        "7.) Table 11 is messy because it has days as column names, which should instead be stored in a \"Date\" column. Table 12 corrects this by moving day values into a single \"Date\" column, making it \"molten\" (long format). However, Table 12(a) is not fully tidy yet because the \"Element\" column still contains variable names (tmax, tmin). Table 12(b) is the final tidy version, where temperature type and temperature values are correctly separated.\n",
        "\n",
        "8.)The \"chicken-and-egg\" problem with tidy data is that while it simplifies data analysis, there needs to be widespread adoption of tools and workflows that support it. Without tools that make tidy data easy to implement, analysts may not see the value in structuring their data this way. However, without widespread adoption of tidy data principles, developers might not prioritize tools that encourage tidiness. Wickham's vision is for tidy data principles to become deeply embedded in data science culture, leading to better tools and frameworks that make data wrangling easier and more efficient beyond just ggplot2 and dplyr."
      ]
    },
    {
      "cell_type": "markdown",
      "id": "649494cd-cfd6-4f80-992a-9994fc19e1d5",
      "metadata": {
        "id": "649494cd-cfd6-4f80-992a-9994fc19e1d5"
      },
      "source": [
        "**Q4.** Many important datasets contain a race variable, typically limited to a handful of values often including Black, White, Asian, Latino, and Indigenous. This question looks at data gathering efforts on this variable by the U.S. Federal government.\n",
        "\n",
        "1. How did the most recent US Census gather data on race?\n",
        "2. Why do we gather these data? What role do these kinds of data play in politics and society? Why does data quality matter?\n",
        "3. Please provide a constructive criticism of how the Census was conducted: What was done well? What do you think was missing? How should future large scale surveys be adjusted to best reflect the diversity of the population? Could some of the Census' good practices be adopted more widely to gather richer and more useful data?\n",
        "4. How did the Census gather data on sex and gender? Please provide a similar constructive criticism of their practices.\n",
        "5. When it comes to cleaning data, what concerns do you have about protected characteristics like sex, gender, sexual identity, or race? What challenges can you imagine arising when there are missing values? What good or bad practices might people adopt, and why?\n",
        "6. Suppose someone invented an algorithm to impute values for protected characteristics like race, gender, sex, or sexuality. What kinds of concerns would you have?"
      ]
    }
  ],
  "metadata": {
    "colab": {
      "provenance": []
    },
    "kernelspec": {
      "display_name": "Python 3",
      "language": "python",
      "name": "python3"
    },
    "language_info": {
      "codemirror_mode": {
        "name": "ipython",
        "version": 3
      },
      "file_extension": ".py",
      "mimetype": "text/x-python",
      "name": "python",
      "nbconvert_exporter": "python",
      "pygments_lexer": "ipython3",
      "version": "3.11.5"
    }
  },
  "nbformat": 4,
  "nbformat_minor": 5
}
